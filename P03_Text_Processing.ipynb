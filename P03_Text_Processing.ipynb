{
  "nbformat": 4,
  "nbformat_minor": 0,
  "metadata": {
    "colab": {
      "provenance": [],
      "authorship_tag": "ABX9TyP/0BlaJ1+cNSBe3am2aCCV",
      "include_colab_link": true
    },
    "kernelspec": {
      "name": "python3",
      "display_name": "Python 3"
    },
    "language_info": {
      "name": "python"
    }
  },
  "cells": [
    {
      "cell_type": "markdown",
      "metadata": {
        "id": "view-in-github",
        "colab_type": "text"
      },
      "source": [
        "<a href=\"https://colab.research.google.com/github/fdhliakbar/IR-Lab/blob/main/P03_Text_Processing.ipynb\" target=\"_parent\"><img src=\"https://colab.research.google.com/assets/colab-badge.svg\" alt=\"Open In Colab\"/></a>"
      ]
    },
    {
      "cell_type": "markdown",
      "source": [
        "# Praktikum Pertemuan 03 - Pemrosesan Text"
      ],
      "metadata": {
        "id": "rErlkUDnAXVn"
      }
    },
    {
      "cell_type": "markdown",
      "source": [
        "<p align=\"center\">\n",
        "  <img src=\"https://miro.medium.com/v2/resize:fit:800/1*KljmJybQDj1mJAL-oS8VWQ.png\">\n",
        "</p>\n",
        "\n",
        "## Apa itu Pemrosesan Teks?\n",
        "\n",
        "**Pemrosesan Teks** (atau *Text Preprocessing*) adalah serangkaian langkah untuk \"membersihkan\" dan \"mengubah\" data teks mentah sebelum digunakan.\n",
        "\n",
        "Komputer tidak memahami bahasa manusia seperti kita. Kalimat \"Saya suka film action\" hanyalah sekumpulan karakter bagi mesin. Tujuan kita adalah mengubah teks yang berantakan dan penuh variasi itu menjadi format yang terstruktur, konsisten, dan mudah dianalisis oleh komputer.\n",
        "\n",
        "<p align=\"center\">\n",
        "  <img src=\"https://github.com/fdhliakbar/IR-Lab/blob/main/flowchart-text-processing.webp?raw=true\" alt=\"Alur Pemrosesan Teks\" width=\"120%\">\n",
        "</p>\n",
        "\n",
        "Langkah-langkah umumnya meliputi:\n",
        "1. **Text Mentah**: Text asli yang belum diproses, bisa mengandung huruf besar-kecil, tanda baca, dan kata-kata tidak penting.\n",
        "2.  **Case Folding & Cleansing**: Ubah semua huruf menjadi lowercase & buang tanda baca,angka,dan simbol yg tidak relevan.\n",
        "3. **Tokenisasi**: Pecah teks menjadi kata-kata(token) agar bisa diproses satu per satu.\n",
        "4. **Stopword Removal**: Hapus kata-kata umum yang tidak menambah makna.\n",
        "5. **Stemming**: Mengubah kata ke bentuk dasar agar makna menjadi konsisten.\n",
        "\n",
        "---\n",
        "\n",
        "## Contoh Simpel\n",
        "\n",
        "Kalimat Mentah:  \n",
        "**\"Saya sangat suka menonton Film Action, apalagi jika film tersebut dibintangi oleh saya sendiri.\"**\n",
        "\n",
        "### 1. Case Folding  \n",
        "Semua huruf diubah menjadi huruf kecil:  \n",
        "`\"saya sangat suka menonton film action, apalagi jika film tersebut dibintangi oleh saya sendiri.\"`\n",
        "\n",
        "### 2. Cleansing  \n",
        "Hapus tanda baca dan karakter tidak relevan:  \n",
        "`\"saya sangat suka menonton film action apalagi jika film tersebut dibintangi oleh saya sendiri\"`\n",
        "\n",
        "### 3. Tokenisasi  \n",
        "Pisahkan kalimat menjadi kata-kata:  \n",
        "`['saya', 'sangat', 'suka', 'menonton', 'film', 'action', 'apalagi', 'jika', 'film', 'tersebut', 'dibintangi', 'oleh', 'saya', 'sendiri']`\n",
        "\n",
        "### 4. Stopword Removal  \n",
        "Hapus kata-kata umum yang tidak menambah makna:  \n",
        "`['sangat', 'suka', 'menonton', 'film', 'action', 'film', 'dibintangi', 'saya', 'sendiri']`\n",
        "\n",
        "### 5. Stemming  \n",
        "Ubah kata ke bentuk dasar:  \n",
        "`['suka', 'tonton', 'film', 'action', 'film', 'bintang', 'saya', 'sendiri']`\n",
        "\n",
        "---\n",
        "\n",
        "Nah hasil akhirnya itu adalah kumpulan kata bermakna bro. Sudah cocok untuk digunakan untuk klasifikasi, clustering dll.\n",
        "\n"
      ],
      "metadata": {
        "id": "U-vsmrO0BAH-"
      }
    },
    {
      "cell_type": "markdown",
      "source": [
        "## Lanjut Langkah Praktikum 😁"
      ],
      "metadata": {
        "id": "dSJkijQO_AMn"
      }
    },
    {
      "cell_type": "markdown",
      "source": [
        "Install Library yang dibutuhkan, pada praktikum ini kita menggunakan NLTK sebagai ... dan Sastrawi sebagai"
      ],
      "metadata": {
        "id": "k6wDlneH_Gml"
      }
    },
    {
      "cell_type": "code",
      "source": [
        "!pip install nltk\n",
        "!pip install Sastrawi"
      ],
      "metadata": {
        "id": "9h80WUfp-2_v",
        "colab": {
          "base_uri": "https://localhost:8080/"
        },
        "outputId": "fde742e9-d73b-4530-fe7b-dd5ffbfa2af5"
      },
      "execution_count": 1,
      "outputs": [
        {
          "output_type": "stream",
          "name": "stdout",
          "text": [
            "Requirement already satisfied: nltk in /usr/local/lib/python3.12/dist-packages (3.9.1)\n",
            "Requirement already satisfied: click in /usr/local/lib/python3.12/dist-packages (from nltk) (8.3.0)\n",
            "Requirement already satisfied: joblib in /usr/local/lib/python3.12/dist-packages (from nltk) (1.5.2)\n",
            "Requirement already satisfied: regex>=2021.8.3 in /usr/local/lib/python3.12/dist-packages (from nltk) (2024.11.6)\n",
            "Requirement already satisfied: tqdm in /usr/local/lib/python3.12/dist-packages (from nltk) (4.67.1)\n",
            "Collecting Sastrawi\n",
            "  Downloading Sastrawi-1.0.1-py2.py3-none-any.whl.metadata (909 bytes)\n",
            "Downloading Sastrawi-1.0.1-py2.py3-none-any.whl (209 kB)\n",
            "\u001b[2K   \u001b[90m━━━━━━━━━━━━━━━━━━━━━━━━━━━━━━━━━━━━━━━━\u001b[0m \u001b[32m209.7/209.7 kB\u001b[0m \u001b[31m4.7 MB/s\u001b[0m eta \u001b[36m0:00:00\u001b[0m\n",
            "\u001b[?25hInstalling collected packages: Sastrawi\n",
            "Successfully installed Sastrawi-1.0.1\n"
          ]
        }
      ]
    },
    {
      "cell_type": "markdown",
      "source": [
        "## Import Library"
      ],
      "metadata": {
        "id": "afd1Cgza-96u"
      }
    },
    {
      "cell_type": "code",
      "source": [
        "import string\n",
        "import pandas as pd\n",
        "import numpy as np\n",
        "import re\n",
        "\n",
        "from Sastrawi.Stemmer.StemmerFactory import StemmerFactory\n",
        "from Sastrawi.StopWordRemover.StopWordRemoverFactory import StopWordRemoverFactory"
      ],
      "metadata": {
        "id": "eXtQhEtS-9sO"
      },
      "execution_count": 11,
      "outputs": []
    },
    {
      "cell_type": "markdown",
      "source": [
        "## Masukkan kalimat Awal"
      ],
      "metadata": {
        "id": "88kHdPC4ilhw"
      }
    },
    {
      "cell_type": "code",
      "source": [
        "kalimat = \"Saya sangat suka menonton Film Action, apalagi jika Film Action tersebut dibintangi oleh saya sendiri yang dapat dipastikan menjadi terlihat keren dan menampakkan keseruan.\"\n",
        "\n",
        "print(\"--- Kalimat Asli ---\")\n",
        "print(kalimat)"
      ],
      "metadata": {
        "colab": {
          "base_uri": "https://localhost:8080/"
        },
        "id": "PsYKxLP3inT_",
        "outputId": "ebcb4147-fe4e-4007-bb68-0daae5ae971f"
      },
      "execution_count": 18,
      "outputs": [
        {
          "output_type": "stream",
          "name": "stdout",
          "text": [
            "--- Kalimat Asli ---\n",
            "Saya sangat suka menonton Film Action, apalagi jika Film Action tersebut dibintangi oleh saya sendiri yang dapat dipastikan menjadi terlihat keren dan menampakkan keseruan.\n"
          ]
        }
      ]
    },
    {
      "cell_type": "markdown",
      "source": [
        "## Langkah Case Folding\n"
      ],
      "metadata": {
        "id": "sR6JPDZNi8t4"
      }
    },
    {
      "cell_type": "code",
      "source": [
        "# Buat Stemmer per kata\n",
        "factory_stemmer = StemmerFactory()\n",
        "stemmer = factory_stemmer.create_stemmer()\n",
        "\n",
        "## Buat stopword removal\n",
        "factory_stopword = StopWordRemoverFactory()\n",
        "stopword_list = factory_stopword.get_stop_words()\n",
        "\n",
        "print(\"\\n--- Daftar Stopwords dari Sastrawi ---\")\n",
        "print(stopword_list)"
      ],
      "metadata": {
        "colab": {
          "base_uri": "https://localhost:8080/"
        },
        "id": "56vFYPeci_6g",
        "outputId": "7a8e5640-97f8-412e-fc06-d5656e03e43e"
      },
      "execution_count": 19,
      "outputs": [
        {
          "output_type": "stream",
          "name": "stdout",
          "text": [
            "\n",
            "--- Daftar Stopwords dari Sastrawi ---\n",
            "['yang', 'untuk', 'pada', 'ke', 'para', 'namun', 'menurut', 'antara', 'dia', 'dua', 'ia', 'seperti', 'jika', 'jika', 'sehingga', 'kembali', 'dan', 'tidak', 'ini', 'karena', 'kepada', 'oleh', 'saat', 'harus', 'sementara', 'setelah', 'belum', 'kami', 'sekitar', 'bagi', 'serta', 'di', 'dari', 'telah', 'sebagai', 'masih', 'hal', 'ketika', 'adalah', 'itu', 'dalam', 'bisa', 'bahwa', 'atau', 'hanya', 'kita', 'dengan', 'akan', 'juga', 'ada', 'mereka', 'sudah', 'saya', 'terhadap', 'secara', 'agar', 'lain', 'anda', 'begitu', 'mengapa', 'kenapa', 'yaitu', 'yakni', 'daripada', 'itulah', 'lagi', 'maka', 'tentang', 'demi', 'dimana', 'kemana', 'pula', 'sambil', 'sebelum', 'sesudah', 'supaya', 'guna', 'kah', 'pun', 'sampai', 'sedangkan', 'selagi', 'sementara', 'tetapi', 'apakah', 'kecuali', 'sebab', 'selain', 'seolah', 'seraya', 'seterusnya', 'tanpa', 'agak', 'boleh', 'dapat', 'dsb', 'dst', 'dll', 'dahulu', 'dulunya', 'anu', 'demikian', 'tapi', 'ingin', 'juga', 'nggak', 'mari', 'nanti', 'melainkan', 'oh', 'ok', 'seharusnya', 'sebetulnya', 'setiap', 'setidaknya', 'sesuatu', 'pasti', 'saja', 'toh', 'ya', 'walau', 'tolong', 'tentu', 'amat', 'apalagi', 'bagaimanapun']\n"
          ]
        }
      ]
    },
    {
      "cell_type": "markdown",
      "source": [
        "## Langkah Case Folding & Cleansing"
      ],
      "metadata": {
        "id": "ZaU51_o3jWq3"
      }
    },
    {
      "cell_type": "code",
      "source": [
        "text_lower = kalimat.lower()\n",
        "\n",
        "text_clean = re.sub(r'[^a-z\\s]', '', text_lower)\n",
        "\n",
        "print(\"--- Hasil Cleansing & Case Folding ---\")\n",
        "print(\"Sebelum : \", kalimat)\n",
        "print(\"---------------------------------\")\n",
        "print(\"Setelah : \", text_clean)"
      ],
      "metadata": {
        "colab": {
          "base_uri": "https://localhost:8080/"
        },
        "id": "WnDUP3bUjanP",
        "outputId": "938efdc9-1df7-4940-98a8-b74c41440931"
      },
      "execution_count": 20,
      "outputs": [
        {
          "output_type": "stream",
          "name": "stdout",
          "text": [
            "--- Hasil Cleansing & Case Folding ---\n",
            "Sebelum :  Saya sangat suka menonton Film Action, apalagi jika Film Action tersebut dibintangi oleh saya sendiri yang dapat dipastikan menjadi terlihat keren dan menampakkan keseruan.\n",
            "---------------------------------\n",
            "Setelah :  saya sangat suka menonton film action apalagi jika film action tersebut dibintangi oleh saya sendiri yang dapat dipastikan menjadi terlihat keren dan menampakkan keseruan\n"
          ]
        }
      ]
    },
    {
      "cell_type": "markdown",
      "source": [
        "## Langkah Tokenisasi"
      ],
      "metadata": {
        "id": "u5PmyXD4Po55"
      }
    },
    {
      "cell_type": "code",
      "source": [
        "tokens = text_clean.split(' ')\n",
        "\n",
        "print(\"--- Hasil Tokenisasi ---\")\n",
        "print(\"Sebelum : \", text_clean)\n",
        "print(\"---------------------------------\")\n",
        "print(\"Setelah : \", tokens)"
      ],
      "metadata": {
        "colab": {
          "base_uri": "https://localhost:8080/"
        },
        "id": "8APUNewPPoX-",
        "outputId": "71d02e44-cd83-4d92-b90c-0182fdd28127"
      },
      "execution_count": 21,
      "outputs": [
        {
          "output_type": "stream",
          "name": "stdout",
          "text": [
            "--- Hasil Tokenisasi ---\n",
            "Sebelum :  saya sangat suka menonton film action apalagi jika film action tersebut dibintangi oleh saya sendiri yang dapat dipastikan menjadi terlihat keren dan menampakkan keseruan\n",
            "---------------------------------\n",
            "Setelah :  ['saya', 'sangat', 'suka', 'menonton', 'film', 'action', 'apalagi', 'jika', 'film', 'action', 'tersebut', 'dibintangi', 'oleh', 'saya', 'sendiri', 'yang', 'dapat', 'dipastikan', 'menjadi', 'terlihat', 'keren', 'dan', 'menampakkan', 'keseruan']\n"
          ]
        }
      ]
    },
    {
      "cell_type": "markdown",
      "source": [
        "## Langkah Stopword Removal"
      ],
      "metadata": {
        "id": "GGiBPfk8jZ3n"
      }
    },
    {
      "cell_type": "code",
      "source": [
        "tokens_clean = []\n",
        "for word in tokens:\n",
        "    if word not in stopword_list:\n",
        "        tokens_clean.append(word)\n",
        "\n",
        "print(\"--- Hasil Stopword Removal ---\")\n",
        "print(\"Sebelum (Jumlah: \" + str(len(tokens)) + \") : \", tokens)\n",
        "print(\"---------------------------------\")\n",
        "print(\"Setelah (Jumlah: \" + str(len(tokens_clean)) + \") : \", tokens_clean)"
      ],
      "metadata": {
        "colab": {
          "base_uri": "https://localhost:8080/"
        },
        "id": "kfJiOu3ijnxP",
        "outputId": "ad0772ff-8c37-4d9e-d3c0-92484dfc69c8"
      },
      "execution_count": 22,
      "outputs": [
        {
          "output_type": "stream",
          "name": "stdout",
          "text": [
            "--- Hasil Stopword Removal ---\n",
            "Sebelum (Jumlah: 24) :  ['saya', 'sangat', 'suka', 'menonton', 'film', 'action', 'apalagi', 'jika', 'film', 'action', 'tersebut', 'dibintangi', 'oleh', 'saya', 'sendiri', 'yang', 'dapat', 'dipastikan', 'menjadi', 'terlihat', 'keren', 'dan', 'menampakkan', 'keseruan']\n",
            "---------------------------------\n",
            "Setelah (Jumlah: 16) :  ['sangat', 'suka', 'menonton', 'film', 'action', 'film', 'action', 'tersebut', 'dibintangi', 'sendiri', 'dipastikan', 'menjadi', 'terlihat', 'keren', 'menampakkan', 'keseruan']\n"
          ]
        }
      ]
    },
    {
      "cell_type": "markdown",
      "source": [
        "## Stemming"
      ],
      "metadata": {
        "id": "mitC1laJP3Ph"
      }
    },
    {
      "cell_type": "code",
      "source": [
        "tokens_stemmed = []\n",
        "for word in tokens_clean:\n",
        "    stemmed_word = stemmer.stem(word)\n",
        "    tokens_stemmed.append(stemmed_word)\n",
        "\n",
        "print(\"--- Hasil Stemming (Final) ---\")\n",
        "print(\"Sebelum : \", tokens_clean)\n",
        "print(\"---------------------------------\")\n",
        "print(\"Setelah : \", tokens_stemmed)"
      ],
      "metadata": {
        "colab": {
          "base_uri": "https://localhost:8080/"
        },
        "id": "zN1NYHxnP4w4",
        "outputId": "bee0ec7a-5011-4141-8d8d-702e3ad1f0e8"
      },
      "execution_count": 23,
      "outputs": [
        {
          "output_type": "stream",
          "name": "stdout",
          "text": [
            "--- Hasil Stemming (Final) ---\n",
            "Sebelum :  ['sangat', 'suka', 'menonton', 'film', 'action', 'film', 'action', 'tersebut', 'dibintangi', 'sendiri', 'dipastikan', 'menjadi', 'terlihat', 'keren', 'menampakkan', 'keseruan']\n",
            "---------------------------------\n",
            "Setelah :  ['sangat', 'suka', 'tonton', 'film', 'action', 'film', 'action', 'sebut', 'bintang', 'sendiri', 'pasti', 'jadi', 'lihat', 'keren', 'tampak', 'seru']\n"
          ]
        }
      ]
    },
    {
      "cell_type": "markdown",
      "source": [
        "## Postest\n",
        "\n",
        "- Tampilkan hasil stemming, removing stopwords dan tokenisasi. Kemudian Analisis setiap perubahan yang terjadi.\n",
        "\n",
        "- Kalian kerjakan soalnya dibawah ini, aku sudah sediakan kalimatnya tidak perlu mencari lagi."
      ],
      "metadata": {
        "id": "O0S87NFTJHSG"
      }
    },
    {
      "cell_type": "markdown",
      "source": [
        "## Kalimat Awal"
      ],
      "metadata": {
        "id": "U7enR9npQYcK"
      }
    },
    {
      "cell_type": "code",
      "source": [
        "kalimat_postest = \"Jangan terbiasa apa-apa Vibe Coding itu seperti pedang bermata dua. jika kalian sudah paham alur, logika & syntax coding prosesnya akan sangat mempermudah pekerjaan. Namun sebaliknya, itu akan terasa sangat rumit dan membingungkan.\""
      ],
      "metadata": {
        "id": "0mrEASgwJG-m"
      },
      "execution_count": 7,
      "outputs": []
    },
    {
      "cell_type": "markdown",
      "source": [
        "## Case Folding & Cleanshing"
      ],
      "metadata": {
        "id": "VQkRRbW0Kzc3"
      }
    },
    {
      "cell_type": "code",
      "source": [],
      "metadata": {
        "id": "AawwYzYMLHvY"
      },
      "execution_count": 7,
      "outputs": []
    },
    {
      "cell_type": "markdown",
      "source": [
        "## Tokenisasi"
      ],
      "metadata": {
        "id": "w9O4bv2GLIEv"
      }
    },
    {
      "cell_type": "code",
      "source": [],
      "metadata": {
        "id": "gpXS0CUBLIqv"
      },
      "execution_count": 7,
      "outputs": []
    },
    {
      "cell_type": "markdown",
      "source": [
        "## Stopword Removal"
      ],
      "metadata": {
        "id": "2VSlEeRyLOzn"
      }
    },
    {
      "cell_type": "code",
      "source": [],
      "metadata": {
        "id": "CWs1GHkCLQvH"
      },
      "execution_count": 7,
      "outputs": []
    },
    {
      "cell_type": "markdown",
      "source": [
        "## Steamming"
      ],
      "metadata": {
        "id": "nYI4TaCZLRDH"
      }
    },
    {
      "cell_type": "code",
      "source": [],
      "metadata": {
        "id": "QhPOIxteLSbX"
      },
      "execution_count": 7,
      "outputs": []
    },
    {
      "cell_type": "markdown",
      "source": [
        "---\n",
        "\n",
        "## Petunjuk pengumpulan:\n",
        "\n",
        "1. Silahkan kerjakan POSTEST dengan ketentuan yang dikumpulkan adalah File PDF.\n",
        "2. Codingan boleh ketik dan berikan penjelasan singkat\n",
        "3. Dalam laporan jangan lupa berikan link kode program yang telah kalian buat di Google Colab\n",
        "4. Penamaan file tugas: Postest (Post-ke_NIM_Kelas_Nama)\n",
        "\n",
        "Batas Pengumpulan Sampai Jam `23.59` `20/10/2025`."
      ],
      "metadata": {
        "id": "CjTvg3Wf_i02"
      }
    },
    {
      "cell_type": "markdown",
      "source": [
        "**Note:** Jika ada perlu ditanyakan terkait teknis praktikum, jangan ragu bertanya. Silahkan bertanya di group atau pc dengan asisten `Fadhli` & `Aufa`\n",
        "\n",
        "## Selamat Mengerjakan 😄\n",
        "\n",
        "<img src=\"https://i.pinimg.com/736x/19/50/a0/1950a062d888e886b2f945b1a8f9debb.jpg\" width=\"120%\" alt=\"Banner\" />\n"
      ],
      "metadata": {
        "id": "0l5g2fJ1Bgom"
      }
    }
  ]
}