{
  "nbformat": 4,
  "nbformat_minor": 0,
  "metadata": {
    "colab": {
      "provenance": [],
      "authorship_tag": "ABX9TyMy4CXbjCL8q5j5ahO4sGtd",
      "include_colab_link": true
    },
    "kernelspec": {
      "name": "python3",
      "display_name": "Python 3"
    },
    "language_info": {
      "name": "python"
    }
  },
  "cells": [
    {
      "cell_type": "markdown",
      "metadata": {
        "id": "view-in-github",
        "colab_type": "text"
      },
      "source": [
        "<a href=\"https://colab.research.google.com/github/fdhliakbar/IR-Lab/blob/main/P03_Text_Processing.ipynb\" target=\"_parent\"><img src=\"https://colab.research.google.com/assets/colab-badge.svg\" alt=\"Open In Colab\"/></a>"
      ]
    },
    {
      "cell_type": "markdown",
      "source": [
        "# Praktikum Pertemuan 03 - Pemrosesan Text"
      ],
      "metadata": {
        "id": "rErlkUDnAXVn"
      }
    },
    {
      "cell_type": "markdown",
      "source": [
        "<p align=\"center\">\n",
        "  <img src=\"https://miro.medium.com/v2/resize:fit:800/1*KljmJybQDj1mJAL-oS8VWQ.png\">\n",
        "</p>\n",
        "\n",
        "## Apa itu Pemrosesan Teks?\n",
        "\n",
        "**Pemrosesan Teks** (atau *Text Preprocessing*) adalah serangkaian langkah untuk \"membersihkan\" dan \"mengubah\" data teks mentah sebelum digunakan.\n",
        "\n",
        "Komputer tidak memahami bahasa manusia seperti kita. Kalimat \"Saya suka film action\" hanyalah sekumpulan karakter bagi mesin. Tujuan kita adalah mengubah teks yang berantakan dan penuh variasi itu menjadi format yang terstruktur, konsisten, dan mudah dianalisis oleh komputer.\n",
        "\n",
        "<p align=\"center\">\n",
        "  <img src=\"https://github.com/fdhliakbar/IR-Lab/blob/main/flowchart-text-processing.webp?raw=true\" alt=\"Alur Pemrosesan Teks\" width=\"120%\">\n",
        "</p>\n",
        "\n",
        "Langkah-langkah umumnya meliputi:\n",
        "1. **Text Mentah**: Text asli yang belum diproses, bisa mengandung huruf besar-kecil, tanda baca, dan kata-kata tidak penting.\n",
        "2.  **Case Folding & Cleansing**: Ubah semua huruf menjadi lowercase & buang tanda baca,angka,dan simbol yg tidak relevan.\n",
        "3. **Tokenisasi**: Pecah teks menjadi kata-kata(token) agar bisa diproses satu per satu.\n",
        "4. **Stopword Removal**: Hapus kata-kata umum yang tidak menambah makna.\n",
        "5. **Stemming**: Mengubah kata ke bentuk dasar agar makna menjadi konsisten.\n",
        "\n",
        "---\n",
        "\n",
        "## Contoh Simpel\n",
        "\n",
        "Kalimat Mentah:  \n",
        "**\"Saya sangat suka menonton Film Action, apalagi jika film tersebut dibintangi oleh saya sendiri.\"**\n",
        "\n",
        "### 1. Case Folding  \n",
        "Semua huruf diubah menjadi huruf kecil:  \n",
        "`\"saya sangat suka menonton film action, apalagi jika film tersebut dibintangi oleh saya sendiri.\"`\n",
        "\n",
        "### 2. Cleansing  \n",
        "Hapus tanda baca dan karakter tidak relevan:  \n",
        "`\"saya sangat suka menonton film action apalagi jika film tersebut dibintangi oleh saya sendiri\"`\n",
        "\n",
        "### 3. Tokenisasi  \n",
        "Pisahkan kalimat menjadi kata-kata:  \n",
        "`['saya', 'sangat', 'suka', 'menonton', 'film', 'action', 'apalagi', 'jika', 'film', 'tersebut', 'dibintangi', 'oleh', 'saya', 'sendiri']`\n",
        "\n",
        "### 4. Stopword Removal  \n",
        "Hapus kata-kata umum yang tidak menambah makna:  \n",
        "`['sangat', 'suka', 'menonton', 'film', 'action', 'film', 'dibintangi', 'saya', 'sendiri']`\n",
        "\n",
        "### 5. Stemming  \n",
        "Ubah kata ke bentuk dasar:  \n",
        "`['suka', 'tonton', 'film', 'action', 'film', 'bintang', 'saya', 'sendiri']`\n",
        "\n",
        "---\n",
        "\n",
        "Nah hasil akhirnya itu adalah kumpulan kata bermakna bro. Sudah cocok untuk digunakan untuk klasifikasi, clustering dll.\n",
        "\n"
      ],
      "metadata": {
        "id": "U-vsmrO0BAH-"
      }
    },
    {
      "cell_type": "markdown",
      "source": [
        "## Lanjut Langkah Praktikum 😁"
      ],
      "metadata": {
        "id": "dSJkijQO_AMn"
      }
    },
    {
      "cell_type": "markdown",
      "source": [
        "Install Library yang dibutuhkan, pada praktikum ini kita menggunakan NLTK sebagai ... dan Sastrawi sebagai"
      ],
      "metadata": {
        "id": "k6wDlneH_Gml"
      }
    },
    {
      "cell_type": "code",
      "source": [
        "!pip install nltk\n",
        "!pip install Sastrawi"
      ],
      "metadata": {
        "id": "9h80WUfp-2_v",
        "colab": {
          "base_uri": "https://localhost:8080/"
        },
        "outputId": "fde742e9-d73b-4530-fe7b-dd5ffbfa2af5"
      },
      "execution_count": 1,
      "outputs": [
        {
          "output_type": "stream",
          "name": "stdout",
          "text": [
            "Requirement already satisfied: nltk in /usr/local/lib/python3.12/dist-packages (3.9.1)\n",
            "Requirement already satisfied: click in /usr/local/lib/python3.12/dist-packages (from nltk) (8.3.0)\n",
            "Requirement already satisfied: joblib in /usr/local/lib/python3.12/dist-packages (from nltk) (1.5.2)\n",
            "Requirement already satisfied: regex>=2021.8.3 in /usr/local/lib/python3.12/dist-packages (from nltk) (2024.11.6)\n",
            "Requirement already satisfied: tqdm in /usr/local/lib/python3.12/dist-packages (from nltk) (4.67.1)\n",
            "Collecting Sastrawi\n",
            "  Downloading Sastrawi-1.0.1-py2.py3-none-any.whl.metadata (909 bytes)\n",
            "Downloading Sastrawi-1.0.1-py2.py3-none-any.whl (209 kB)\n",
            "\u001b[2K   \u001b[90m━━━━━━━━━━━━━━━━━━━━━━━━━━━━━━━━━━━━━━━━\u001b[0m \u001b[32m209.7/209.7 kB\u001b[0m \u001b[31m4.7 MB/s\u001b[0m eta \u001b[36m0:00:00\u001b[0m\n",
            "\u001b[?25hInstalling collected packages: Sastrawi\n",
            "Successfully installed Sastrawi-1.0.1\n"
          ]
        }
      ]
    },
    {
      "cell_type": "markdown",
      "source": [
        "## Import Library"
      ],
      "metadata": {
        "id": "afd1Cgza-96u"
      }
    },
    {
      "cell_type": "code",
      "source": [
        "import string\n",
        "import pandas as pd\n",
        "import numpy as np\n",
        "\n",
        "from Sastrawi.Stemmer.StemmerFactory import StemmerFactory\n",
        "from Sastrawi.StopWordRemover.StopWordRemoverFactory import StopWordRemoverFactory"
      ],
      "metadata": {
        "id": "eXtQhEtS-9sO"
      },
      "execution_count": 2,
      "outputs": []
    },
    {
      "cell_type": "markdown",
      "source": [
        "## Masukkan kalimat Awal"
      ],
      "metadata": {
        "id": "88kHdPC4ilhw"
      }
    },
    {
      "cell_type": "code",
      "source": [
        "kalimat = \"Saya sangat suka menonton Film Action, apalagi jika Film Action tersebut dibintangi oleh saya sendiri yang dapat dipastikan menjadi terlihat keren dan menampakkan keseruan.\"\n",
        "\n",
        "print(\"--- Kalimat Asli ---\")\n",
        "print(kalimat)"
      ],
      "metadata": {
        "colab": {
          "base_uri": "https://localhost:8080/"
        },
        "id": "PsYKxLP3inT_",
        "outputId": "3f48f8d5-8977-4cd9-90fb-b9ec09aedbdb"
      },
      "execution_count": 3,
      "outputs": [
        {
          "output_type": "stream",
          "name": "stdout",
          "text": [
            "--- Kalimat Asli ---\n",
            "Saya sangat suka menonton Film Action, apalagi jika Film Action tersebut dibintangi oleh saya sendiri yang dapat dipastikan menjadi terlihat keren dan menampakkan keseruan.\n"
          ]
        }
      ]
    },
    {
      "cell_type": "markdown",
      "source": [
        "## Langkah Stemming\n"
      ],
      "metadata": {
        "id": "sR6JPDZNi8t4"
      }
    },
    {
      "cell_type": "code",
      "source": [
        "# Buat factory untuk stemmer\n",
        "factory_stemmer = StemmerFactory()\n",
        "stemmer = factory_stemmer.create_stemmer()\n",
        "\n",
        "# Lakukan proses stemming pada kalimat\n",
        "text_stemmed = stemmer.stem(kalimat)\n",
        "\n",
        "print(\"--- Hasil Stemming ---\")\n",
        "print(\"Sebelum Stemming : \", kalimat)\n",
        "print(\"---------------------------------\")\n",
        "print(\"Setelah Stemming : \", text_stemmed)"
      ],
      "metadata": {
        "colab": {
          "base_uri": "https://localhost:8080/"
        },
        "id": "56vFYPeci_6g",
        "outputId": "588ed3a7-eacc-43ff-c8c9-98178739bd5d"
      },
      "execution_count": 4,
      "outputs": [
        {
          "output_type": "stream",
          "name": "stdout",
          "text": [
            "--- Hasil Stemming ---\n",
            "Sebelum Stemming :  Saya sangat suka menonton Film Action, apalagi jika Film Action tersebut dibintangi oleh saya sendiri yang dapat dipastikan menjadi terlihat keren dan menampakkan keseruan.\n",
            "---------------------------------\n",
            "Setelah Stemming :  saya sangat suka tonton film action apalagi jika film action sebut bintang oleh saya sendiri yang dapat pasti jadi lihat keren dan tampak seru\n"
          ]
        }
      ]
    },
    {
      "cell_type": "markdown",
      "source": [
        "## Langkah Removing"
      ],
      "metadata": {
        "id": "ZaU51_o3jWq3"
      }
    },
    {
      "cell_type": "code",
      "source": [
        "factory_stopword = StopWordRemoverFactory()\n",
        "remover = factory_stopword.create_stop_word_remover()\n",
        "\n",
        "# Lakukan proses removing stopwords pada teks hasil stemming\n",
        "text_clean = remover.remove(text_stemmed)\n",
        "\n",
        "print(\"--- Hasil Removing Stopwords ---\")\n",
        "print(\"Sebelum Removing Stopwords : \", text_stemmed)\n",
        "print(\"---------------------------------\")\n",
        "print(\"Setelah Removing Stopwords : \", text_clean)"
      ],
      "metadata": {
        "colab": {
          "base_uri": "https://localhost:8080/"
        },
        "id": "WnDUP3bUjanP",
        "outputId": "ff49e962-239c-46c8-8102-76c3b33bdab9"
      },
      "execution_count": 5,
      "outputs": [
        {
          "output_type": "stream",
          "name": "stdout",
          "text": [
            "--- Hasil Removing Stopwords ---\n",
            "Sebelum Removing Stopwords :  saya sangat suka tonton film action apalagi jika film action sebut bintang oleh saya sendiri yang dapat pasti jadi lihat keren dan tampak seru\n",
            "---------------------------------\n",
            "Setelah Removing Stopwords :  sangat suka tonton film action jika film action sebut bintang saya sendiri dapat jadi lihat keren tampak seru\n"
          ]
        }
      ]
    },
    {
      "cell_type": "markdown",
      "source": [
        "## Langkah Tokenisasi\n",
        "\n",
        "Memecah Kalimat"
      ],
      "metadata": {
        "id": "GGiBPfk8jZ3n"
      }
    },
    {
      "cell_type": "code",
      "source": [
        "tokens = text_clean.split(' ')\n",
        "\n",
        "# Tampilkan hasilnya\n",
        "print(\"--- Hasil Tokenisasi ---\")\n",
        "print(\"Sebelum Tokenisasi : \", text_clean)\n",
        "print(\"---------------------------------\")\n",
        "print(\"Setelah Tokenisasi : \", tokens)"
      ],
      "metadata": {
        "colab": {
          "base_uri": "https://localhost:8080/"
        },
        "id": "kfJiOu3ijnxP",
        "outputId": "cdf535b4-2136-4dab-ced0-888c19440cf4"
      },
      "execution_count": 6,
      "outputs": [
        {
          "output_type": "stream",
          "name": "stdout",
          "text": [
            "--- Hasil Tokenisasi ---\n",
            "Sebelum Tokenisasi :  sangat suka tonton film action jika film action sebut bintang saya sendiri dapat jadi lihat keren tampak seru\n",
            "---------------------------------\n",
            "Setelah Tokenisasi :  ['sangat', 'suka', 'tonton', 'film', 'action', 'jika', 'film', 'action', 'sebut', 'bintang', 'saya', 'sendiri', 'dapat', 'jadi', 'lihat', 'keren', 'tampak', 'seru']\n"
          ]
        }
      ]
    },
    {
      "cell_type": "markdown",
      "source": [
        "## Postest\n",
        "\n",
        "- Tampilkan hasil stemming, removing stopwords dan tokenisasi.\n",
        "\n",
        "- Kalian kerjakan soalnya dibawah ini, aku sudah sediakan kalimatnya tidak perlu mencari lagi."
      ],
      "metadata": {
        "id": "O0S87NFTJHSG"
      }
    },
    {
      "cell_type": "code",
      "source": [
        "kalimat_postest = \"Jangan terbiasa apa-apa Vibe Coding itu seperti pedang bermata dua. jika kalian sudah paham alur, logika & syntax coding prosesnya akan sangat mempermudah pekerjaan. Namun sebaliknya, itu akan terasa sangat rumit dan membingungkan.\""
      ],
      "metadata": {
        "id": "0mrEASgwJG-m"
      },
      "execution_count": 7,
      "outputs": []
    },
    {
      "cell_type": "markdown",
      "source": [
        "## Case Folding & Cleanshing"
      ],
      "metadata": {
        "id": "VQkRRbW0Kzc3"
      }
    },
    {
      "cell_type": "code",
      "source": [],
      "metadata": {
        "id": "AawwYzYMLHvY"
      },
      "execution_count": 7,
      "outputs": []
    },
    {
      "cell_type": "markdown",
      "source": [
        "## Tokenisasi"
      ],
      "metadata": {
        "id": "w9O4bv2GLIEv"
      }
    },
    {
      "cell_type": "code",
      "source": [],
      "metadata": {
        "id": "gpXS0CUBLIqv"
      },
      "execution_count": 7,
      "outputs": []
    },
    {
      "cell_type": "markdown",
      "source": [
        "## Stopword Removal"
      ],
      "metadata": {
        "id": "2VSlEeRyLOzn"
      }
    },
    {
      "cell_type": "code",
      "source": [],
      "metadata": {
        "id": "CWs1GHkCLQvH"
      },
      "execution_count": 7,
      "outputs": []
    },
    {
      "cell_type": "markdown",
      "source": [
        "## Steamming"
      ],
      "metadata": {
        "id": "nYI4TaCZLRDH"
      }
    },
    {
      "cell_type": "code",
      "source": [],
      "metadata": {
        "id": "QhPOIxteLSbX"
      },
      "execution_count": 7,
      "outputs": []
    },
    {
      "cell_type": "markdown",
      "source": [
        "---\n",
        "\n",
        "## Petunjuk pengumpulan:\n",
        "\n",
        "1. Silahkan kerjakan POSTEST dengan ketentuan yang dikumpulkan adalah File PDF.\n",
        "2. Codingan boleh ketik dan berikan penjelasan singkat\n",
        "3. Dalam laporan jangan lupa berikan link kode program yang telah kalian buat di Google Colab\n",
        "4. Penamaan file tugas: Postest (Post-ke_NIM_Kelas_Nama)\n",
        "\n",
        "Batas Pengumpulan Sampai Jam `23.59` `20/10/2025`."
      ],
      "metadata": {
        "id": "CjTvg3Wf_i02"
      }
    },
    {
      "cell_type": "markdown",
      "source": [
        "**Note:** Jika ada perlu ditanyakan terkait teknis praktikum, jangan ragu bertanya. Silahkan bertanya di group atau pc dengan asisten `Fadhli` & `Aufa`\n",
        "\n",
        "## Selamat Mengerjakan 😄\n",
        "\n",
        "<img src=\"https://i.pinimg.com/736x/19/50/a0/1950a062d888e886b2f945b1a8f9debb.jpg\" width=\"120%\" alt=\"Banner\" />\n"
      ],
      "metadata": {
        "id": "0l5g2fJ1Bgom"
      }
    }
  ]
}