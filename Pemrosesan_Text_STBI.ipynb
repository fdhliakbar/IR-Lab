{
  "nbformat": 4,
  "nbformat_minor": 0,
  "metadata": {
    "colab": {
      "provenance": [],
      "authorship_tag": "ABX9TyPlj4fxhAWGctqXkMueCBhN",
      "include_colab_link": true
    },
    "kernelspec": {
      "name": "python3",
      "display_name": "Python 3"
    },
    "language_info": {
      "name": "python"
    }
  },
  "cells": [
    {
      "cell_type": "markdown",
      "metadata": {
        "id": "view-in-github",
        "colab_type": "text"
      },
      "source": [
        "<a href=\"https://colab.research.google.com/github/fdhliakbar/IR-Lab/blob/main/Pemrosesan_Text_STBI.ipynb\" target=\"_parent\"><img src=\"https://colab.research.google.com/assets/colab-badge.svg\" alt=\"Open In Colab\"/></a>"
      ]
    },
    {
      "cell_type": "markdown",
      "source": [
        "# Praktikum Pertemuan 03 - Pemrosesan Text"
      ],
      "metadata": {
        "id": "rErlkUDnAXVn"
      }
    },
    {
      "cell_type": "markdown",
      "source": [
        "<p align=\"center\">\n",
        "  <img src=\"https://www.datarobot.com/wp-content/uploads/2022/03/image3-1-2.jpeg\" width=\"450\">\n",
        "</p>\n",
        "\n",
        "## Apa itu Pemrosesan Teks?\n",
        "\n",
        "**Pemrosesan Teks** (atau *Text Preprocessing*) adalah serangkaian langkah untuk \"membersihkan\" dan \"mengubah\" data teks mentah sebelum digunakan.\n",
        "\n",
        "Komputer tidak memahami bahasa manusia seperti kita. Kalimat \"Saya suka film action\" hanyalah sekumpulan karakter bagi mesin. Tujuan kita adalah mengubah teks yang berantakan dan penuh variasi itu menjadi format yang terstruktur, konsisten, dan mudah dianalisis oleh komputer.\n",
        "\n",
        "<p align=\"center\">\n",
        "  <img src=\"https://miro.medium.com/v2/resize:fit:1400/1*yGvh-R0Wk-Vn3a-3--p34w.png\" alt=\"Alur Pemrosesan Teks\" width=\"600\">\n",
        "</p>\n",
        "\n",
        "Langkah-langkah umumnya meliputi:\n",
        "1.  **Case Folding**: Mengubah semua huruf menjadi huruf kecil.\n",
        "2.  **Stopword Removal**: Menghapus kata-kata umum (seperti 'yang', 'di', 'dan').\n",
        "3.  **Stemming**: Mengubah kata ke bentuk dasarnya (misal: 'menonton' -> 'tonton').\n",
        "4.  **Tokenisasi**: Memecah kalimat menjadi potongan-potongan kata (token).\n",
        "\n",
        "## Bingung kan?\n",
        "\n",
        "Kenapa harus seribet itu? Kenapa teks tidak bisa langsung diolah saja?\n",
        "\n",
        "Bayangkan Anda seorang koki yang mendapat sekantong bahan makanan acak. Anda tidak bisa langsung memasukkan semuanya ke panci, kan?\n",
        "* Anda harus **membersihkan** sayuran (buang tanahnya).\n",
        "* Anda harus **mengupas** kulitnya.\n",
        "* Anda harus **membuang** bagian yang tidak perlu (seperti tulang atau biji).\n",
        "* Anda harus **memotong** semuanya jadi ukuran yang seragam.\n",
        "\n",
        "**Teks juga sama!**\n",
        "* Kata 'yang', 'di', 'dari' itu seperti \"kotoran\" atau \"tangkai\" yang tidak menambah makna utama. Kita buang saja (**Stopword Removal**).\n",
        "* Kata 'belajar', 'mempelajari', dan 'dipelajari' intinya sama: 'belajar'. Kita seragamkan bentuknya (**Stemming**).\n",
        "\n",
        "Jadi, tujuan kita adalah menyederhanakan teks agar komputer bisa fokus pada **inti informasinya** saja.\n",
        "\n",
        "## Contoh Sederhana\n",
        "\n",
        "Lihat transformasi teks di bawah ini:\n",
        "\n",
        "> **Kalimat Mentah:**\n",
        "> \"Saya sedang menonton film-film terbaru di bioskop kesayangan.\"\n",
        "\n",
        "Setelah kita proses:\n",
        "\n",
        "1.  **Case Folding**: \"saya sedang menonton film-film terbaru di bioskop kesayangan.\"\n",
        "2.  **Stopword Removal**: \"saya menonton film-film terbaru bioskop kesayangan.\" (Kata 'sedang' dan 'di' hilang).\n",
        "3.  **Stemming**: \"saya tonton film baru bioskop sayang.\" (Kata 'menonton' -> 'tonton', 'film-film' -> 'film', 'terbaru' -> 'baru', 'kesayangan' -> 'sayang').\n",
        "4.  **Tokenisasi**: `['saya', 'tonton', 'film', 'baru', 'bioskop', 'sayang']`\n",
        "\n",
        "Hasil akhirnya (langkah 4) adalah data bersih yang siap diolah oleh mesin!\n",
        "\n",
        "---\n",
        "\n",
        "Di dalam repository ini, kita akan mempraktikkan semua langkah ini menggunakan *notebook* yang telah disediakan.\n",
        "\n",
        "**Selamat belajar dan selamat mencoba!**"
      ],
      "metadata": {
        "id": "U-vsmrO0BAH-"
      }
    },
    {
      "cell_type": "markdown",
      "source": [
        "## Lanjut Langkah Praktikum 😁"
      ],
      "metadata": {
        "id": "dSJkijQO_AMn"
      }
    },
    {
      "cell_type": "markdown",
      "source": [
        "Install Library yang dibutuhkan, pada praktikum ini kita menggunakan NLTK sebagai ... dan Sastrawi sebagai"
      ],
      "metadata": {
        "id": "k6wDlneH_Gml"
      }
    },
    {
      "cell_type": "code",
      "source": [
        "!pip install nltk\n",
        "!pip install Sastrawi"
      ],
      "metadata": {
        "id": "9h80WUfp-2_v",
        "colab": {
          "base_uri": "https://localhost:8080/"
        },
        "outputId": "670cf6d3-d893-494d-e66b-7364174e1bd4"
      },
      "execution_count": 1,
      "outputs": [
        {
          "output_type": "stream",
          "name": "stdout",
          "text": [
            "Requirement already satisfied: nltk in /usr/local/lib/python3.12/dist-packages (3.9.1)\n",
            "Requirement already satisfied: click in /usr/local/lib/python3.12/dist-packages (from nltk) (8.3.0)\n",
            "Requirement already satisfied: joblib in /usr/local/lib/python3.12/dist-packages (from nltk) (1.5.2)\n",
            "Requirement already satisfied: regex>=2021.8.3 in /usr/local/lib/python3.12/dist-packages (from nltk) (2024.11.6)\n",
            "Requirement already satisfied: tqdm in /usr/local/lib/python3.12/dist-packages (from nltk) (4.67.1)\n",
            "Collecting Sastrawi\n",
            "  Downloading Sastrawi-1.0.1-py2.py3-none-any.whl.metadata (909 bytes)\n",
            "Downloading Sastrawi-1.0.1-py2.py3-none-any.whl (209 kB)\n",
            "\u001b[2K   \u001b[90m━━━━━━━━━━━━━━━━━━━━━━━━━━━━━━━━━━━━━━━━\u001b[0m \u001b[32m209.7/209.7 kB\u001b[0m \u001b[31m4.8 MB/s\u001b[0m eta \u001b[36m0:00:00\u001b[0m\n",
            "\u001b[?25hInstalling collected packages: Sastrawi\n",
            "Successfully installed Sastrawi-1.0.1\n"
          ]
        }
      ]
    },
    {
      "cell_type": "markdown",
      "source": [
        "## Import Library"
      ],
      "metadata": {
        "id": "afd1Cgza-96u"
      }
    },
    {
      "cell_type": "code",
      "source": [
        "import string\n",
        "import pandas as pd\n",
        "import numpy as np\n",
        "\n",
        "from Sastrawi.Stemmer.StemmerFactory import StemmerFactory\n",
        "from Sastrawi.StopWordRemover.StopWordRemoverFactory import StopWordRemoverFactory"
      ],
      "metadata": {
        "id": "eXtQhEtS-9sO"
      },
      "execution_count": 2,
      "outputs": []
    },
    {
      "cell_type": "markdown",
      "source": [
        "## Masukkan kalimat Awal"
      ],
      "metadata": {
        "id": "88kHdPC4ilhw"
      }
    },
    {
      "cell_type": "code",
      "source": [
        "kalimat = \"Saya sangat suka menonton Film Action, apalagi jika Film Action tersebut dibintangi oleh saya sendiri yang dapat dipastikan menjadi terlihat keren dan menampakkan keseruan.\"\n",
        "\n",
        "print(\"--- Kalimat Asli ---\")\n",
        "print(kalimat)"
      ],
      "metadata": {
        "colab": {
          "base_uri": "https://localhost:8080/"
        },
        "id": "PsYKxLP3inT_",
        "outputId": "72851e8c-f403-408c-da46-f3e37a152a9d"
      },
      "execution_count": 7,
      "outputs": [
        {
          "output_type": "stream",
          "name": "stdout",
          "text": [
            "--- Kalimat Asli ---\n",
            "Saya sangat suka menonton Film Action, apalagi jika Film Action tersebut dibintangi oleh saya sendiri yang dapat dipastikan menjadi terlihat keren dan menampakkan keseruan.\n"
          ]
        }
      ]
    },
    {
      "cell_type": "markdown",
      "source": [
        "## Langkah Stemming\n"
      ],
      "metadata": {
        "id": "sR6JPDZNi8t4"
      }
    },
    {
      "cell_type": "code",
      "source": [
        "# Buat factory untuk stemmer\n",
        "factory_stemmer = StemmerFactory()\n",
        "stemmer = factory_stemmer.create_stemmer()\n",
        "\n",
        "# Lakukan proses stemming pada kalimat\n",
        "text_stemmed = stemmer.stem(kalimat)\n",
        "\n",
        "print(\"--- Hasil Stemming ---\")\n",
        "print(\"Sebelum Stemming : \", kalimat)\n",
        "print(\"---------------------------------\")\n",
        "print(\"Setelah Stemming : \", text_stemmed)"
      ],
      "metadata": {
        "colab": {
          "base_uri": "https://localhost:8080/"
        },
        "id": "56vFYPeci_6g",
        "outputId": "d38e2444-9261-456e-8d70-02a1daf30e72"
      },
      "execution_count": 8,
      "outputs": [
        {
          "output_type": "stream",
          "name": "stdout",
          "text": [
            "--- Hasil Stemming ---\n",
            "Sebelum Stemming :  Saya sangat suka menonton Film Action, apalagi jika Film Action tersebut dibintangi oleh saya sendiri yang dapat dipastikan menjadi terlihat keren dan menampakkan keseruan.\n",
            "---------------------------------\n",
            "Setelah Stemming :  saya sangat suka tonton film action apalagi jika film action sebut bintang oleh saya sendiri yang dapat pasti jadi lihat keren dan tampak seru\n"
          ]
        }
      ]
    },
    {
      "cell_type": "markdown",
      "source": [
        "## Langkah Removing"
      ],
      "metadata": {
        "id": "ZaU51_o3jWq3"
      }
    },
    {
      "cell_type": "code",
      "source": [
        "factory_stopword = StopWordRemoverFactory()\n",
        "remover = factory_stopword.create_stop_word_remover()\n",
        "\n",
        "# Lakukan proses removing stopwords pada teks hasil stemming\n",
        "text_clean = remover.remove(text_stemmed)\n",
        "\n",
        "print(\"--- Hasil Removing Stopwords ---\")\n",
        "print(\"Sebelum Removing Stopwords : \", text_stemmed)\n",
        "print(\"---------------------------------\")\n",
        "print(\"Setelah Removing Stopwords : \", text_clean)"
      ],
      "metadata": {
        "colab": {
          "base_uri": "https://localhost:8080/"
        },
        "id": "WnDUP3bUjanP",
        "outputId": "7c8991c7-2139-4304-ef1d-10f6aeda6b99"
      },
      "execution_count": 9,
      "outputs": [
        {
          "output_type": "stream",
          "name": "stdout",
          "text": [
            "--- Hasil Removing Stopwords ---\n",
            "Sebelum Removing Stopwords :  saya sangat suka tonton film action apalagi jika film action sebut bintang oleh saya sendiri yang dapat pasti jadi lihat keren dan tampak seru\n",
            "---------------------------------\n",
            "Setelah Removing Stopwords :  sangat suka tonton film action jika film action sebut bintang saya sendiri dapat jadi lihat keren tampak seru\n"
          ]
        }
      ]
    },
    {
      "cell_type": "markdown",
      "source": [
        "## Langkah Tokenisasi\n",
        "\n",
        "Memecah Kalimat"
      ],
      "metadata": {
        "id": "GGiBPfk8jZ3n"
      }
    },
    {
      "cell_type": "code",
      "source": [
        "tokens = text_clean.split(' ')\n",
        "\n",
        "# Tampilkan hasilnya\n",
        "print(\"--- Hasil Tokenisasi ---\")\n",
        "print(\"Sebelum Tokenisasi : \", text_clean)\n",
        "print(\"---------------------------------\")\n",
        "print(\"Setelah Tokenisasi : \", tokens)"
      ],
      "metadata": {
        "colab": {
          "base_uri": "https://localhost:8080/"
        },
        "id": "kfJiOu3ijnxP",
        "outputId": "6515b2b0-11d3-45d4-c9ce-6238fd800918"
      },
      "execution_count": 10,
      "outputs": [
        {
          "output_type": "stream",
          "name": "stdout",
          "text": [
            "--- Hasil Tokenisasi ---\n",
            "Sebelum Tokenisasi :  sangat suka tonton film action jika film action sebut bintang saya sendiri dapat jadi lihat keren tampak seru\n",
            "---------------------------------\n",
            "Setelah Tokenisasi :  ['sangat', 'suka', 'tonton', 'film', 'action', 'jika', 'film', 'action', 'sebut', 'bintang', 'saya', 'sendiri', 'dapat', 'jadi', 'lihat', 'keren', 'tampak', 'seru']\n"
          ]
        }
      ]
    },
    {
      "cell_type": "markdown",
      "source": [
        "## Postest\n",
        "\n",
        "Tampilkan hasil stemming, removing stopwords dan\n",
        "tokenisasi!"
      ],
      "metadata": {
        "id": "CjTvg3Wf_i02"
      }
    },
    {
      "cell_type": "markdown",
      "source": [
        "**Note:** Jika ada perlu ditanyakan terkait teknis praktikum, silahkan bertanya di group atau pc dengan asisten `Fadhli` & `Aufa`\n",
        "\n",
        "\n",
        "<img src=\"https://i.pinimg.com/736x/19/50/a0/1950a062d888e886b2f945b1a8f9debb.jpg\" width=\"120%\" alt=\"Banner\" />\n"
      ],
      "metadata": {
        "id": "0l5g2fJ1Bgom"
      }
    }
  ]
}